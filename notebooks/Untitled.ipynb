{
 "cells": [
  {
   "cell_type": "markdown",
   "id": "cd20242d-4619-4aa1-b79a-e3a3805e3294",
   "metadata": {},
   "source": [
    "# MLflow"
   ]
  },
  {
   "cell_type": "code",
   "execution_count": 12,
   "id": "a14fb85b-8baf-43b2-a7db-55b4b0d33f88",
   "metadata": {},
   "outputs": [],
   "source": [
    "import mlflow\n",
    "from mlflow.tracking import MlflowClient\n",
    "import redis\n",
    "import numpy as np"
   ]
  },
  {
   "cell_type": "code",
   "execution_count": 2,
   "id": "4742be51-ec9b-4b74-99aa-4fe5fee97e2b",
   "metadata": {},
   "outputs": [],
   "source": [
    "from sklearn.linear_model import LogisticRegression"
   ]
  },
  {
   "cell_type": "code",
   "execution_count": 3,
   "id": "edabd78b-7473-4485-b51c-d3c0a8d904bf",
   "metadata": {},
   "outputs": [],
   "source": [
    "mlflow.set_tracking_uri(\"http://localhost:5050\")"
   ]
  },
  {
   "cell_type": "code",
   "execution_count": 4,
   "id": "19209612-d426-43aa-ac98-913aa3e036c5",
   "metadata": {},
   "outputs": [],
   "source": [
    "client = MlflowClient()"
   ]
  },
  {
   "cell_type": "code",
   "execution_count": 5,
   "id": "01a858f6-be3c-4c81-8a7a-d3fba4b5ab20",
   "metadata": {},
   "outputs": [],
   "source": [
    "meta = client.get_latest_versions(name = 'LogRegFruits')"
   ]
  },
  {
   "cell_type": "code",
   "execution_count": 6,
   "id": "9bc7d73c-243d-4df1-a1e8-cd33f3ebf39a",
   "metadata": {},
   "outputs": [
    {
     "name": "stdout",
     "output_type": "stream",
     "text": [
      "[<ModelVersion: aliases=[], creation_timestamp=1712069111426, current_stage='None', description='', last_updated_timestamp=1712069111426, name='LogRegFruits', run_id='b1248c9c1dbf43f085b8bcb37d103227', run_link='', source='mlflow-artifacts:/562894960322934845/b1248c9c1dbf43f085b8bcb37d103227/artifacts/LogRegFruits', status='READY', status_message='', tags={}, user_id='', version='1'>]\n"
     ]
    }
   ],
   "source": [
    "print(meta)"
   ]
  },
  {
   "cell_type": "code",
   "execution_count": 7,
   "id": "0e8e6afe-71e2-4503-bc5b-0a01e2c54868",
   "metadata": {},
   "outputs": [
    {
     "data": {
      "text/plain": [
       "'mlartifacts/562894960322934845/b1248c9c1dbf43f085b8bcb37d103227/artifacts/LogRegFruits/model.pkl'"
      ]
     },
     "execution_count": 7,
     "metadata": {},
     "output_type": "execute_result"
    }
   ],
   "source": [
    "path = 'mlartifacts' + meta[0].source.split(':')[1] + '/model.pkl'\n",
    "path"
   ]
  },
  {
   "cell_type": "code",
   "execution_count": 8,
   "id": "8f4b0755-d03c-4887-b2dd-fd29f64edb7f",
   "metadata": {},
   "outputs": [
    {
     "data": {
      "application/vnd.jupyter.widget-view+json": {
       "model_id": "0493795c93184fd28538de88e270e946",
       "version_major": 2,
       "version_minor": 0
      },
      "text/plain": [
       "Downloading artifacts:   0%|          | 0/5 [00:00<?, ?it/s]"
      ]
     },
     "metadata": {},
     "output_type": "display_data"
    }
   ],
   "source": [
    "client = MlflowClient()\n",
    "meta = client.get_latest_versions(name = 'LogRegFruits')\n",
    "model_name = meta[0].name\n",
    "model_version = meta[0].version\n",
    "model_uri = f\"models:/{model_name}/{model_version}\"\n",
    "model = mlflow.pyfunc.load_model(model_uri)"
   ]
  },
  {
   "cell_type": "code",
   "execution_count": 15,
   "id": "c8e3a483-5d59-4ba8-8c9e-6b49beb7ab1d",
   "metadata": {},
   "outputs": [
    {
     "ename": "MlflowException",
     "evalue": "Shape of input (10, 10) does not match expected shape (-1, 4).",
     "output_type": "error",
     "traceback": [
      "\u001b[1;31m---------------------------------------------------------------------------\u001b[0m",
      "\u001b[1;31mMlflowException\u001b[0m                           Traceback (most recent call last)",
      "Cell \u001b[1;32mIn[15], line 1\u001b[0m\n\u001b[1;32m----> 1\u001b[0m model\u001b[38;5;241m.\u001b[39mpredict(np\u001b[38;5;241m.\u001b[39mrandom\u001b[38;5;241m.\u001b[39mrand(\u001b[38;5;241m10\u001b[39m,\u001b[38;5;241m10\u001b[39m))\n",
      "File \u001b[1;32m~\\miniconda3\\envs\\simple\\Lib\\site-packages\\mlflow\\pyfunc\\__init__.py:468\u001b[0m, in \u001b[0;36mPyFuncModel.predict\u001b[1;34m(self, data, params)\u001b[0m\n\u001b[0;32m    466\u001b[0m input_schema \u001b[38;5;241m=\u001b[39m \u001b[38;5;28mself\u001b[39m\u001b[38;5;241m.\u001b[39mmetadata\u001b[38;5;241m.\u001b[39mget_input_schema()\n\u001b[0;32m    467\u001b[0m \u001b[38;5;28;01mif\u001b[39;00m input_schema \u001b[38;5;129;01mis\u001b[39;00m \u001b[38;5;129;01mnot\u001b[39;00m \u001b[38;5;28;01mNone\u001b[39;00m:\n\u001b[1;32m--> 468\u001b[0m     data \u001b[38;5;241m=\u001b[39m _enforce_schema(data, input_schema)\n\u001b[0;32m    470\u001b[0m params \u001b[38;5;241m=\u001b[39m _validate_params(params, \u001b[38;5;28mself\u001b[39m\u001b[38;5;241m.\u001b[39mmetadata)\n\u001b[0;32m    472\u001b[0m \u001b[38;5;28;01mdef\u001b[39;00m \u001b[38;5;21m_predict\u001b[39m():\n\u001b[0;32m    473\u001b[0m     \u001b[38;5;66;03m# Models saved prior to MLflow 2.5.0 do not support `params` in the pyfunc `predict()`\u001b[39;00m\n\u001b[0;32m    474\u001b[0m     \u001b[38;5;66;03m# function definition, nor do they support `**kwargs`. Accordingly, we only pass\u001b[39;00m\n\u001b[0;32m    475\u001b[0m     \u001b[38;5;66;03m# `params` to the `predict()` method if it defines the `params` argument\u001b[39;00m\n",
      "File \u001b[1;32m~\\miniconda3\\envs\\simple\\Lib\\site-packages\\mlflow\\models\\utils.py:852\u001b[0m, in \u001b[0;36m_enforce_schema\u001b[1;34m(pf_input, input_schema)\u001b[0m\n\u001b[0;32m    845\u001b[0m         \u001b[38;5;28;01mraise\u001b[39;00m MlflowException(\n\u001b[0;32m    846\u001b[0m             \u001b[38;5;124m\"\u001b[39m\u001b[38;5;124mModel inference is missing inputs. The model signature declares \u001b[39m\u001b[38;5;124m\"\u001b[39m\n\u001b[0;32m    847\u001b[0m             \u001b[38;5;124m\"\u001b[39m\u001b[38;5;132;01m{}\u001b[39;00m\u001b[38;5;124m inputs  but the provided value only has \u001b[39m\u001b[38;5;124m\"\u001b[39m\n\u001b[0;32m    848\u001b[0m             \u001b[38;5;124m\"\u001b[39m\u001b[38;5;132;01m{}\u001b[39;00m\u001b[38;5;124m inputs. Note: the inputs were not named in the signature so we can \u001b[39m\u001b[38;5;124m\"\u001b[39m\n\u001b[0;32m    849\u001b[0m             \u001b[38;5;124m\"\u001b[39m\u001b[38;5;124monly verify their count.\u001b[39m\u001b[38;5;124m\"\u001b[39m\u001b[38;5;241m.\u001b[39mformat(\u001b[38;5;28mlen\u001b[39m(input_schema\u001b[38;5;241m.\u001b[39minputs), num_actual_columns)\n\u001b[0;32m    850\u001b[0m         )\n\u001b[0;32m    851\u001b[0m \u001b[38;5;28;01mif\u001b[39;00m input_schema\u001b[38;5;241m.\u001b[39mis_tensor_spec():\n\u001b[1;32m--> 852\u001b[0m     \u001b[38;5;28;01mreturn\u001b[39;00m _enforce_tensor_schema(pf_input, input_schema)\n\u001b[0;32m    853\u001b[0m \u001b[38;5;28;01melif\u001b[39;00m input_schema\u001b[38;5;241m.\u001b[39mhas_input_names():\n\u001b[0;32m    854\u001b[0m     \u001b[38;5;28;01mreturn\u001b[39;00m _enforce_named_col_schema(pf_input, input_schema)\n",
      "File \u001b[1;32m~\\miniconda3\\envs\\simple\\Lib\\site-packages\\mlflow\\models\\utils.py:723\u001b[0m, in \u001b[0;36m_enforce_tensor_schema\u001b[1;34m(pf_input, input_schema)\u001b[0m\n\u001b[0;32m    721\u001b[0m         new_pf_input \u001b[38;5;241m=\u001b[39m _enforce_tensor_spec(pf_input\u001b[38;5;241m.\u001b[39mto_numpy(), tensor_spec)\n\u001b[0;32m    722\u001b[0m \u001b[38;5;28;01melif\u001b[39;00m \u001b[38;5;28misinstance\u001b[39m(pf_input, np\u001b[38;5;241m.\u001b[39mndarray) \u001b[38;5;129;01mor\u001b[39;00m _is_sparse_matrix(pf_input):\n\u001b[1;32m--> 723\u001b[0m     new_pf_input \u001b[38;5;241m=\u001b[39m _enforce_tensor_spec(pf_input, tensor_spec)\n\u001b[0;32m    724\u001b[0m \u001b[38;5;28;01melse\u001b[39;00m:\n\u001b[0;32m    725\u001b[0m     \u001b[38;5;28;01mraise\u001b[39;00m MlflowException(\n\u001b[0;32m    726\u001b[0m         \u001b[38;5;124m\"\u001b[39m\u001b[38;5;124mThis model contains a tensor-based model signature with no input names,\u001b[39m\u001b[38;5;124m\"\u001b[39m\n\u001b[0;32m    727\u001b[0m         \u001b[38;5;124m\"\u001b[39m\u001b[38;5;124m which suggests a numpy array input or a pandas dataframe input with\u001b[39m\u001b[38;5;124m\"\u001b[39m\n\u001b[0;32m    728\u001b[0m         \u001b[38;5;124mf\u001b[39m\u001b[38;5;124m\"\u001b[39m\u001b[38;5;124m proper column values, but an input of type \u001b[39m\u001b[38;5;132;01m{\u001b[39;00m\u001b[38;5;28mtype\u001b[39m(pf_input)\u001b[38;5;132;01m}\u001b[39;00m\u001b[38;5;124m was found.\u001b[39m\u001b[38;5;124m\"\u001b[39m,\n\u001b[0;32m    729\u001b[0m         error_code\u001b[38;5;241m=\u001b[39mINVALID_PARAMETER_VALUE,\n\u001b[0;32m    730\u001b[0m     )\n",
      "File \u001b[1;32m~\\miniconda3\\envs\\simple\\Lib\\site-packages\\mlflow\\models\\utils.py:439\u001b[0m, in \u001b[0;36m_enforce_tensor_spec\u001b[1;34m(values, tensor_spec)\u001b[0m\n\u001b[0;32m    437\u001b[0m         \u001b[38;5;28;01mcontinue\u001b[39;00m\n\u001b[0;32m    438\u001b[0m     \u001b[38;5;28;01mif\u001b[39;00m expected \u001b[38;5;241m!=\u001b[39m actual:\n\u001b[1;32m--> 439\u001b[0m         \u001b[38;5;28;01mraise\u001b[39;00m MlflowException(\n\u001b[0;32m    440\u001b[0m             \u001b[38;5;124mf\u001b[39m\u001b[38;5;124m\"\u001b[39m\u001b[38;5;124mShape of input \u001b[39m\u001b[38;5;132;01m{\u001b[39;00mactual_shape\u001b[38;5;132;01m}\u001b[39;00m\u001b[38;5;124m does not match expected shape \u001b[39m\u001b[38;5;132;01m{\u001b[39;00mexpected_shape\u001b[38;5;132;01m}\u001b[39;00m\u001b[38;5;124m.\u001b[39m\u001b[38;5;124m\"\u001b[39m\n\u001b[0;32m    441\u001b[0m         )\n\u001b[0;32m    442\u001b[0m \u001b[38;5;28;01mif\u001b[39;00m clean_tensor_type(actual_type) \u001b[38;5;241m!=\u001b[39m expected_type:\n\u001b[0;32m    443\u001b[0m     \u001b[38;5;28;01mraise\u001b[39;00m MlflowException(\n\u001b[0;32m    444\u001b[0m         \u001b[38;5;124mf\u001b[39m\u001b[38;5;124m\"\u001b[39m\u001b[38;5;124mdtype of input \u001b[39m\u001b[38;5;132;01m{\u001b[39;00mactual_type\u001b[38;5;132;01m}\u001b[39;00m\u001b[38;5;124m does not match expected dtype \u001b[39m\u001b[38;5;132;01m{\u001b[39;00mexpected_type\u001b[38;5;132;01m}\u001b[39;00m\u001b[38;5;124m\"\u001b[39m\n\u001b[0;32m    445\u001b[0m     )\n",
      "\u001b[1;31mMlflowException\u001b[0m: Shape of input (10, 10) does not match expected shape (-1, 4)."
     ]
    }
   ],
   "source": [
    "model.predict(np.random.rand(10,10))"
   ]
  },
  {
   "cell_type": "code",
   "execution_count": 16,
   "id": "380eaabe-9231-49ec-b19f-ffea370caeac",
   "metadata": {},
   "outputs": [
    {
     "data": {
      "text/plain": [
       "'C:\\\\Users\\\\akash\\\\Documents\\\\MLProjects\\\\MLProject2\\\\notebooks'"
      ]
     },
     "execution_count": 16,
     "metadata": {},
     "output_type": "execute_result"
    }
   ],
   "source": [
    "pwd"
   ]
  },
  {
   "cell_type": "code",
   "execution_count": null,
   "id": "0ab4a1ae-255d-4388-ab16-af3f50825607",
   "metadata": {},
   "outputs": [],
   "source": []
  }
 ],
 "metadata": {
  "kernelspec": {
   "display_name": "simple",
   "language": "python",
   "name": "simple"
  },
  "language_info": {
   "codemirror_mode": {
    "name": "ipython",
    "version": 3
   },
   "file_extension": ".py",
   "mimetype": "text/x-python",
   "name": "python",
   "nbconvert_exporter": "python",
   "pygments_lexer": "ipython3",
   "version": "3.11.5"
  }
 },
 "nbformat": 4,
 "nbformat_minor": 5
}
