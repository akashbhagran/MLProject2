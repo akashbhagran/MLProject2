{
 "cells": [
  {
   "cell_type": "code",
   "execution_count": 35,
   "id": "39fab6f5-5782-4143-9ee5-451fc5efeb5e",
   "metadata": {},
   "outputs": [],
   "source": [
    "%matplotlib inline\n",
    "import pandas as pd\n",
    "import matplotlib.pyplot as plt\n",
    "from sklearn.linear_model import LogisticRegression\n",
    "from sklearn.model_selection import train_test_split\n",
    "from sklearn.preprocessing import MinMaxScaler"
   ]
  },
  {
   "cell_type": "code",
   "execution_count": 36,
   "id": "47c81265-4192-4817-be01-11389f614247",
   "metadata": {},
   "outputs": [],
   "source": [
    "import sqlite3\n",
    "import numpy as np"
   ]
  },
  {
   "cell_type": "code",
   "execution_count": 47,
   "id": "062827ab-77f7-4cb8-88da-4b56ef5ccc06",
   "metadata": {},
   "outputs": [],
   "source": [
    "# Get from DB\n",
    "conn = sqlite3.connect('C:/Users/akash/Documents/MLProjects/LiveData/fruits.db')\n",
    "df = pd.read_sql(\"SELECT * FROM FRUITS\", conn)\n",
    "conn.close()\n",
    "\n",
    "# Define X and y\n",
    "\n",
    "X = df[['MASS','WIDTH','HEIGHT','COLOUR']]\n",
    "y = df['FRUIT']"
   ]
  },
  {
   "cell_type": "code",
   "execution_count": 38,
   "id": "34d9dfc0-9c5f-41ee-a611-d023dbd7e9c5",
   "metadata": {},
   "outputs": [],
   "source": [
    "import os\n",
    "import pickle"
   ]
  },
  {
   "cell_type": "code",
   "execution_count": 49,
   "id": "2cf2e21b-7250-49dc-9f4d-c567e451d55b",
   "metadata": {},
   "outputs": [],
   "source": [
    "### Load latest model\n",
    "path = 'C:/Users/akash/Documents/MLProjects/LiveData/ModelRegistry/MLproject2/'\n",
    "pkl_files = [file for file in os.listdir(path) if file.endswith('.pkl')]\n",
    "# Sort the list of files by modification time (latest first)\n",
    "pkl_files.sort(key=lambda x: os.path.getmtime(os.path.join(path, x)), reverse=True)\n",
    "# Load the latest .pkl file\n",
    "latest_pkl_file = pkl_files[0]\n",
    "with open(path+latest_pkl_file, 'rb') as file:\n",
    "    loaded_model = pickle.load(file)\n",
    "logreg = loaded_model"
   ]
  },
  {
   "cell_type": "code",
   "execution_count": 50,
   "id": "8bbec15c-0f8d-4381-a9f0-fa8c6c859464",
   "metadata": {},
   "outputs": [],
   "source": [
    "scaler = MinMaxScaler()\n",
    "X = np.array(X)\n",
    "X = scaler.fit_transform(X)"
   ]
  },
  {
   "cell_type": "code",
   "execution_count": 51,
   "id": "351c32b0-bf44-4761-ab36-0268d9333aba",
   "metadata": {},
   "outputs": [
    {
     "data": {
      "text/plain": [
       "array([1, 1, 4, ..., 3, 4, 1], dtype=int64)"
      ]
     },
     "execution_count": 51,
     "metadata": {},
     "output_type": "execute_result"
    }
   ],
   "source": [
    "logreg.predict(X)"
   ]
  },
  {
   "cell_type": "code",
   "execution_count": 52,
   "id": "0aac80e9-ab4c-428b-817a-9ff53713e8e9",
   "metadata": {},
   "outputs": [
    {
     "data": {
      "text/plain": [
       "0.0"
      ]
     },
     "execution_count": 52,
     "metadata": {},
     "output_type": "execute_result"
    }
   ],
   "source": [
    "logreg.score(X,y)"
   ]
  },
  {
   "cell_type": "code",
   "execution_count": 53,
   "id": "ec44b9a1-ba6f-4764-9c9c-7d6cf4a5fe68",
   "metadata": {},
   "outputs": [
    {
     "data": {
      "text/plain": [
       "0          apple\n",
       "1          apple\n",
       "2       mandarin\n",
       "3       mandarin\n",
       "4          lemon\n",
       "          ...   \n",
       "2995    mandarin\n",
       "2996       apple\n",
       "2997       lemon\n",
       "2998    mandarin\n",
       "2999      orange\n",
       "Name: FRUIT, Length: 3000, dtype: object"
      ]
     },
     "execution_count": 53,
     "metadata": {},
     "output_type": "execute_result"
    }
   ],
   "source": [
    "y"
   ]
  },
  {
   "cell_type": "code",
   "execution_count": null,
   "id": "be6475ce-d826-4348-96db-973f57fc294f",
   "metadata": {},
   "outputs": [],
   "source": []
  }
 ],
 "metadata": {
  "kernelspec": {
   "display_name": "Python 3 (ipykernel)",
   "language": "python",
   "name": "python3"
  },
  "language_info": {
   "codemirror_mode": {
    "name": "ipython",
    "version": 3
   },
   "file_extension": ".py",
   "mimetype": "text/x-python",
   "name": "python",
   "nbconvert_exporter": "python",
   "pygments_lexer": "ipython3",
   "version": "3.12.1"
  }
 },
 "nbformat": 4,
 "nbformat_minor": 5
}
