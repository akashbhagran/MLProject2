{
 "cells": [
  {
   "cell_type": "markdown",
   "id": "253ea8cf-2050-4bc3-b888-df20540d8909",
   "metadata": {},
   "source": [
    "### Using Fitter to model data and generate fake versions"
   ]
  },
  {
   "cell_type": "code",
   "execution_count": 1,
   "id": "fa442115-7b5e-4fd8-8a6c-24c3dbb237d4",
   "metadata": {},
   "outputs": [],
   "source": [
    "import numpy as np\n",
    "import pandas as pd\n",
    "from fitter import Fitter, get_common_distributions, get_distributions"
   ]
  },
  {
   "cell_type": "code",
   "execution_count": 2,
   "id": "1bd68dfd-2d89-41f8-a6a9-cedc53c898a6",
   "metadata": {},
   "outputs": [],
   "source": [
    "import matplotlib.pyplot as plt\n",
    "import seaborn as sns"
   ]
  },
  {
   "cell_type": "code",
   "execution_count": 27,
   "id": "d6154ac1-808b-467e-8431-be1fb9ec538f",
   "metadata": {},
   "outputs": [],
   "source": [
    "import sqlite3 as sql"
   ]
  },
  {
   "cell_type": "code",
   "execution_count": 43,
   "id": "d296f2fd-ada1-41b7-89a7-893348dfd70d",
   "metadata": {},
   "outputs": [],
   "source": [
    "conn = sql.connect('fruits.db')"
   ]
  },
  {
   "cell_type": "code",
   "execution_count": 46,
   "id": "8a42f300-d969-4a50-9db3-22be5fd35004",
   "metadata": {},
   "outputs": [
    {
     "data": {
      "text/plain": [
       "<sqlite3.Cursor at 0x155bb0ae740>"
      ]
     },
     "execution_count": 46,
     "metadata": {},
     "output_type": "execute_result"
    }
   ],
   "source": [
    "conn = sql.connect('fruits.db')\n",
    "\n",
    "conn.execute('''CREATE TABLE FRUITS\n",
    "         (MASS           FLOAT    NOT NULL,\n",
    "          WIDTH          FLOAT    NOT NULL,\n",
    "          HEIGHT         FLOAT    NOT NULL,          \n",
    "          COLOUR         FLOAT    NOT NULL,\n",
    "          FRUIT          CHAR(50));''')"
   ]
  },
  {
   "cell_type": "code",
   "execution_count": 95,
   "id": "f740528c-b71f-4fcc-80bc-cb17fa9c03f5",
   "metadata": {},
   "outputs": [],
   "source": [
    "def make_fruit():\n",
    "\n",
    "    r = np.random.randint(1,5)\n",
    "    print(r)\n",
    "    match r:\n",
    "\n",
    "        case 1:\n",
    "            print('hey')\n",
    "            apple_mass = np.random.normal(165,10)\n",
    "            apple_width = np.random.normal(7.6,0.8)\n",
    "            apple_height = np.random.normal(7.2,0.6)\n",
    "            apple_colour = np.random.uniform(0.55,0.95)\n",
    "            fr = 'apple'\n",
    "            print(apple_mass,apple_colour,fr)\n",
    "\n",
    "            return conn.execute(\"INSERT INTO FRUITS (MASS,WIDTH,HEIGHT,COLOUR,FRUIT) VALUES \\\n",
    "                   ({},{},{},{},'apple')\".format(apple_mass, apple_width, apple_height,apple_colour))\n",
    "        case 2:\n",
    "    \n",
    "            mandarin_mass = np.random.normal(81,5)\n",
    "            mandarin_width = np.random.uniform(5.8,6.2)\n",
    "            mandarin_height = np.random.normal(4.3,0.5)\n",
    "            mandarin_colour = np.random.uniform(0.77,0.81)\n",
    "            fr = 'mandarin'\n",
    "\n",
    "            return conn.execute(\"INSERT INTO FRUITS (MASS,WIDTH,HEIGHT,COLOUR,FRUIT) VALUES \\\n",
    "                   (mandarin_mass,mandarin_width, \\\n",
    "                   mandarin_height,mandarin_colour,fr)\")\n",
    "            \n",
    "        case 3:\n",
    "\n",
    "            orange_mass = np.random.normal(150,50)\n",
    "            orange_width = np.random.normal(7.2,0.8)\n",
    "            orange_height = np.random.normal(7.0,10)\n",
    "            orange_colour = np.random.uniform(0.72,0.82)\n",
    "            fr = 'orange'\n",
    "\n",
    "            return conn.execute(\"INSERT INTO FRUITS (MASS,WIDTH,HEIGHT,COLOUR,FRUIT) VALUES \\\n",
    "                   (orange_mass,orange_width, \\\n",
    "                   orange_height,orange_colour,fr)\")\n",
    "        \n",
    "        case 4:\n",
    "\n",
    "            lemon_mass = np.random.uniform(120,200)\n",
    "            lemon_width = np.random.normal(6.6,0.6)\n",
    "            lemon_height = np.random.uniform(7.5,10.5)\n",
    "            lemon_colour = np.random.normal(0.72,0.82)\n",
    "            fr = 'lemon'\n",
    "\n",
    "            return conn.execute(\"INSERT INTO FRUITS (MASS,WIDTH,HEIGHT,COLOUR,FRUIT) VALUES \\\n",
    "                   (lemon_mass,lemon_width, \\\n",
    "                   lemon_height,lemon_colour,fr)\")"
   ]
  },
  {
   "cell_type": "code",
   "execution_count": 101,
   "id": "358caf15-583c-4e7e-a92c-096f41d5b045",
   "metadata": {},
   "outputs": [
    {
     "name": "stdout",
     "output_type": "stream",
     "text": [
      "1\n",
      "hey\n",
      "153.1077614637104 0.7978078914782202 apple\n"
     ]
    },
    {
     "data": {
      "text/plain": [
       "<sqlite3.Cursor at 0x155bb829bc0>"
      ]
     },
     "execution_count": 101,
     "metadata": {},
     "output_type": "execute_result"
    }
   ],
   "source": [
    "make_fruit()"
   ]
  },
  {
   "cell_type": "code",
   "execution_count": 88,
   "id": "715da1b9-d74b-4e13-94cf-f0d691d48014",
   "metadata": {},
   "outputs": [
    {
     "data": {
      "text/plain": [
       "<sqlite3.Cursor at 0x155bb51eac0>"
      ]
     },
     "execution_count": 88,
     "metadata": {},
     "output_type": "execute_result"
    }
   ],
   "source": [
    "conn.execute(\"INSERT INTO FRUITS (MASS,WIDTH,HEIGHT,COLOUR,FRUIT) VALUES ({},{},{},{},'apple')\".format(np.random.normal(165,10),np.random.normal(165,10),np.random.normal(165,10),np.random.normal(165,10)))"
   ]
  },
  {
   "cell_type": "code",
   "execution_count": 55,
   "id": "30d110b3-1ad8-4d22-a41f-c16763725254",
   "metadata": {},
   "outputs": [
    {
     "ename": "NameError",
     "evalue": "name 'lemon_mass' is not defined",
     "output_type": "error",
     "traceback": [
      "\u001b[1;31m---------------------------------------------------------------------------\u001b[0m",
      "\u001b[1;31mNameError\u001b[0m                                 Traceback (most recent call last)",
      "Cell \u001b[1;32mIn[55], line 1\u001b[0m\n\u001b[1;32m----> 1\u001b[0m lemon_mass\n",
      "\u001b[1;31mNameError\u001b[0m: name 'lemon_mass' is not defined"
     ]
    }
   ],
   "source": [
    "lemon_mass"
   ]
  },
  {
   "cell_type": "code",
   "execution_count": 84,
   "id": "e3d55ab9-101a-4ec0-bc21-be73b028926a",
   "metadata": {},
   "outputs": [
    {
     "name": "stdout",
     "output_type": "stream",
     "text": [
      "hey 3\n"
     ]
    }
   ],
   "source": [
    "print('hey {}'.format(3))"
   ]
  },
  {
   "cell_type": "code",
   "execution_count": null,
   "id": "59c56501-dc3f-4767-98e1-a457334445fb",
   "metadata": {},
   "outputs": [],
   "source": []
  }
 ],
 "metadata": {
  "kernelspec": {
   "display_name": "simple",
   "language": "python",
   "name": "simple"
  },
  "language_info": {
   "codemirror_mode": {
    "name": "ipython",
    "version": 3
   },
   "file_extension": ".py",
   "mimetype": "text/x-python",
   "name": "python",
   "nbconvert_exporter": "python",
   "pygments_lexer": "ipython3",
   "version": "3.12.1"
  }
 },
 "nbformat": 4,
 "nbformat_minor": 5
}
