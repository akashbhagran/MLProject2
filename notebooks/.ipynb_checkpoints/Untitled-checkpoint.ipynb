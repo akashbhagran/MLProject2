{
 "cells": [
  {
   "cell_type": "markdown",
   "id": "cd20242d-4619-4aa1-b79a-e3a3805e3294",
   "metadata": {},
   "source": [
    "# MLflow"
   ]
  },
  {
   "cell_type": "code",
   "execution_count": 1,
   "id": "a14fb85b-8baf-43b2-a7db-55b4b0d33f88",
   "metadata": {},
   "outputs": [
    {
     "name": "stderr",
     "output_type": "stream",
     "text": [
      "C:\\Users\\akash\\miniconda3\\envs\\simple\\Lib\\site-packages\\pydantic\\_internal\\_fields.py:149: UserWarning: Field \"model_server_url\" has conflict with protected namespace \"model_\".\n",
      "\n",
      "You may be able to resolve this warning by setting `model_config['protected_namespaces'] = ()`.\n",
      "  warnings.warn(\n",
      "C:\\Users\\akash\\miniconda3\\envs\\simple\\Lib\\site-packages\\pydantic\\_internal\\_config.py:321: UserWarning: Valid config keys have changed in V2:\n",
      "* 'schema_extra' has been renamed to 'json_schema_extra'\n",
      "  warnings.warn(message, UserWarning)\n"
     ]
    }
   ],
   "source": [
    "import mlflow\n",
    "from mlflow.tracking import MlflowClient\n",
    "import redis"
   ]
  },
  {
   "cell_type": "code",
   "execution_count": 2,
   "id": "4742be51-ec9b-4b74-99aa-4fe5fee97e2b",
   "metadata": {},
   "outputs": [],
   "source": [
    "from sklearn.linear_model import LogisticRegression"
   ]
  },
  {
   "cell_type": "code",
   "execution_count": 18,
   "id": "edabd78b-7473-4485-b51c-d3c0a8d904bf",
   "metadata": {},
   "outputs": [],
   "source": [
    "mlflow.set_tracking_uri(\"http://localhost:5050\")"
   ]
  },
  {
   "cell_type": "code",
   "execution_count": 19,
   "id": "19209612-d426-43aa-ac98-913aa3e036c5",
   "metadata": {},
   "outputs": [],
   "source": [
    "client = MlflowClient()"
   ]
  },
  {
   "cell_type": "code",
   "execution_count": 5,
   "id": "01a858f6-be3c-4c81-8a7a-d3fba4b5ab20",
   "metadata": {},
   "outputs": [],
   "source": [
    "meta = client.get_latest_versions(name = 'LogRegFruits')"
   ]
  },
  {
   "cell_type": "code",
   "execution_count": 6,
   "id": "9bc7d73c-243d-4df1-a1e8-cd33f3ebf39a",
   "metadata": {},
   "outputs": [
    {
     "name": "stdout",
     "output_type": "stream",
     "text": [
      "[<ModelVersion: aliases=[], creation_timestamp=1711466784538, current_stage='None', description='', last_updated_timestamp=1711466784538, name='LogRegFruits', run_id='d476e2994c274cc183178e53ee1ed1ff', run_link='', source='/mlflow/artifacts/0/d476e2994c274cc183178e53ee1ed1ff/artifacts/sklearn-model', status='READY', status_message='', tags={}, user_id='', version='1'>]\n"
     ]
    }
   ],
   "source": [
    "print(meta)"
   ]
  },
  {
   "cell_type": "code",
   "execution_count": 26,
   "id": "8f4b0755-d03c-4887-b2dd-fd29f64edb7f",
   "metadata": {},
   "outputs": [
    {
     "data": {
      "application/vnd.jupyter.widget-view+json": {
       "model_id": "6d6134777597481aaa7f3f8e3eacaa68",
       "version_major": 2,
       "version_minor": 0
      },
      "text/plain": [
       "Downloading artifacts:   0%|          | 0/5 [00:00<?, ?it/s]"
      ]
     },
     "metadata": {},
     "output_type": "display_data"
    }
   ],
   "source": [
    "client = MlflowClient()\n",
    "meta = client.get_latest_versions(name = 'LogRegFruits')\n",
    "model_name = meta[0].name\n",
    "model_version = meta[0].version\n",
    "model_uri = f\"models:/{model_name}/{model_version}\"\n",
    "model = mlflow.pyfunc.load_model(model_uri)"
   ]
  },
  {
   "cell_type": "code",
   "execution_count": 27,
   "id": "c8e3a483-5d59-4ba8-8c9e-6b49beb7ab1d",
   "metadata": {},
   "outputs": [
    {
     "data": {
      "text/plain": [
       "mlflow.pyfunc.loaded_model:\n",
       "  artifact_path: LogRegFruits\n",
       "  flavor: mlflow.sklearn\n",
       "  run_id: f796bcd72ca74a67bf58101c04db8a57"
      ]
     },
     "execution_count": 27,
     "metadata": {},
     "output_type": "execute_result"
    }
   ],
   "source": [
    "model"
   ]
  },
  {
   "cell_type": "code",
   "execution_count": null,
   "id": "e6011fe3-dd3b-4c1c-afd3-df65b49780a1",
   "metadata": {},
   "outputs": [],
   "source": []
  },
  {
   "cell_type": "code",
   "execution_count": null,
   "id": "380eaabe-9231-49ec-b19f-ffea370caeac",
   "metadata": {},
   "outputs": [],
   "source": []
  }
 ],
 "metadata": {
  "kernelspec": {
   "display_name": "simple",
   "language": "python",
   "name": "simple"
  },
  "language_info": {
   "codemirror_mode": {
    "name": "ipython",
    "version": 3
   },
   "file_extension": ".py",
   "mimetype": "text/x-python",
   "name": "python",
   "nbconvert_exporter": "python",
   "pygments_lexer": "ipython3",
   "version": "3.11.5"
  }
 },
 "nbformat": 4,
 "nbformat_minor": 5
}
