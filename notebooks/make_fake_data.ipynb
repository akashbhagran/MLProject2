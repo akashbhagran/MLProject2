{
 "cells": [
  {
   "cell_type": "markdown",
   "id": "253ea8cf-2050-4bc3-b888-df20540d8909",
   "metadata": {},
   "source": [
    "# Make an algorithm which writes data to a local db file."
   ]
  },
  {
   "cell_type": "code",
   "execution_count": 1,
   "id": "fa442115-7b5e-4fd8-8a6c-24c3dbb237d4",
   "metadata": {},
   "outputs": [],
   "source": [
    "import numpy as np\n",
    "import pandas as pd\n",
    "from fitter import Fitter, get_common_distributions, get_distributions\n",
    "import sqlite3 as sql"
   ]
  },
  {
   "cell_type": "code",
   "execution_count": 2,
   "id": "8a42f300-d969-4a50-9db3-22be5fd35004",
   "metadata": {},
   "outputs": [
    {
     "ename": "OperationalError",
     "evalue": "table FRUITS already exists",
     "output_type": "error",
     "traceback": [
      "\u001b[1;31m---------------------------------------------------------------------------\u001b[0m",
      "\u001b[1;31mOperationalError\u001b[0m                          Traceback (most recent call last)",
      "Cell \u001b[1;32mIn[2], line 4\u001b[0m\n\u001b[0;32m      1\u001b[0m conn \u001b[38;5;241m=\u001b[39m sql\u001b[38;5;241m.\u001b[39mconnect(\u001b[38;5;124m'\u001b[39m\u001b[38;5;124mfruits3.db\u001b[39m\u001b[38;5;124m'\u001b[39m)\n\u001b[0;32m      2\u001b[0m cursor \u001b[38;5;241m=\u001b[39m conn\u001b[38;5;241m.\u001b[39mcursor()\n\u001b[1;32m----> 4\u001b[0m conn\u001b[38;5;241m.\u001b[39mexecute(\u001b[38;5;124m'''\u001b[39m\u001b[38;5;124mCREATE TABLE FRUITS\u001b[39m\n\u001b[0;32m      5\u001b[0m \u001b[38;5;124m         (MASS           FLOAT    NOT NULL,\u001b[39m\n\u001b[0;32m      6\u001b[0m \u001b[38;5;124m          WIDTH          FLOAT    NOT NULL,\u001b[39m\n\u001b[0;32m      7\u001b[0m \u001b[38;5;124m          HEIGHT         FLOAT    NOT NULL,          \u001b[39m\n\u001b[0;32m      8\u001b[0m \u001b[38;5;124m          COLOUR         FLOAT    NOT NULL,\u001b[39m\n\u001b[0;32m      9\u001b[0m \u001b[38;5;124m          FRUIT          TEXT);\u001b[39m\u001b[38;5;124m'''\u001b[39m)\n",
      "\u001b[1;31mOperationalError\u001b[0m: table FRUITS already exists"
     ]
    }
   ],
   "source": [
    "conn = sql.connect('fruits3.db')\n",
    "cursor = conn.cursor()\n",
    "\n",
    "conn.execute('''CREATE TABLE FRUITS\n",
    "         (MASS           FLOAT    NOT NULL,\n",
    "          WIDTH          FLOAT    NOT NULL,\n",
    "          HEIGHT         FLOAT    NOT NULL,          \n",
    "          COLOUR         FLOAT    NOT NULL,\n",
    "          FRUIT          TEXT);''')"
   ]
  },
  {
   "cell_type": "code",
   "execution_count": 3,
   "id": "f740528c-b71f-4fcc-80bc-cb17fa9c03f5",
   "metadata": {},
   "outputs": [],
   "source": [
    "def make_fruit():\n",
    "\n",
    "    r = np.random.randint(1,5)\n",
    "\n",
    "    match r:\n",
    "\n",
    "        case 1:\n",
    "            apple_mass = np.random.normal(165,10)\n",
    "            apple_width = np.random.normal(7.6,0.8)\n",
    "            apple_height = np.random.normal(7.2,0.6)\n",
    "            apple_colour = np.random.uniform(0.55,0.95)\n",
    "            fr = 'apple'\n",
    "\n",
    "            return conn.execute(\"INSERT INTO FRUITS (MASS,WIDTH,HEIGHT,COLOUR,FRUIT) VALUES \\\n",
    "                   ({},{},{},{},'apple')\".format(apple_mass, apple_width, apple_height,apple_colour))\n",
    "        case 2:\n",
    "    \n",
    "            mandarin_mass = np.random.normal(81,5)\n",
    "            mandarin_width = np.random.uniform(5.8,6.2)\n",
    "            mandarin_height = np.random.normal(4.3,0.5)\n",
    "            mandarin_colour = np.random.uniform(0.77,0.81)\n",
    "            fr = 'mandarin'\n",
    "\n",
    "            return conn.execute(\"INSERT INTO FRUITS (MASS,WIDTH,HEIGHT,COLOUR,FRUIT) VALUES \\\n",
    "                   ({},{},{},{}, 'mandarin')\".format(mandarin_mass,mandarin_width,mandarin_height,mandarin_colour))\n",
    "            \n",
    "        case 3:\n",
    "\n",
    "            orange_mass = np.random.normal(150,50)\n",
    "            orange_width = np.random.normal(7.2,0.8)\n",
    "            orange_height = np.random.normal(7.0,10)\n",
    "            orange_colour = np.random.uniform(0.72,0.82)\n",
    "            fr = 'orange'\n",
    "\n",
    "            return conn.execute(\"INSERT INTO FRUITS (MASS,WIDTH,HEIGHT,COLOUR,FRUIT) VALUES \\\n",
    "                   ({},{},{},{},'orange')\".format(orange_mass,orange_width,orange_height,orange_colour))\n",
    "        \n",
    "        case 4:\n",
    "\n",
    "            lemon_mass = np.random.uniform(120,200)\n",
    "            lemon_width = np.random.normal(6.6,0.6)\n",
    "            lemon_height = np.random.uniform(7.5,10.5)\n",
    "            lemon_colour = np.random.normal(0.72,0.82)\n",
    "            fr = 'lemon'\n",
    "\n",
    "            return conn.execute(\"INSERT INTO FRUITS (MASS,WIDTH,HEIGHT,COLOUR,FRUIT) VALUES \\\n",
    "                   ({},{},{},{},'lemon')\".format(lemon_mass,lemon_width,lemon_height,lemon_colour))\n",
    "\n",
    "for i in range(0,1000):\n",
    "    make_fruit()\n",
    "\n",
    "conn.commit()"
   ]
  },
  {
   "cell_type": "code",
   "execution_count": 44,
   "id": "358caf15-583c-4e7e-a92c-096f41d5b045",
   "metadata": {},
   "outputs": [],
   "source": [
    "for i in range(0,1000):\n",
    "    make_fruit()\n",
    "\n",
    "conn.commit()"
   ]
  }
 ],
 "metadata": {
  "kernelspec": {
   "display_name": "simple",
   "language": "python",
   "name": "simple"
  },
  "language_info": {
   "codemirror_mode": {
    "name": "ipython",
    "version": 3
   },
   "file_extension": ".py",
   "mimetype": "text/x-python",
   "name": "python",
   "nbconvert_exporter": "python",
   "pygments_lexer": "ipython3",
   "version": "3.12.1"
  }
 },
 "nbformat": 4,
 "nbformat_minor": 5
}
